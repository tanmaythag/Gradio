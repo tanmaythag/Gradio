{
 "cells": [
  {
   "cell_type": "code",
   "execution_count": null,
   "metadata": {},
   "outputs": [],
   "source": [
    "#install the below libraries"
   ]
  },
  {
   "cell_type": "code",
   "execution_count": null,
   "metadata": {},
   "outputs": [],
   "source": [
    "import gradio as gr\n",
    "import tensorflow as tf\n",
    "import numpy as np\n",
    "from PIL import Image\n",
    "import requests\n",
    "from urllib.request import urlretrieve"
   ]
  },
  {
   "cell_type": "code",
   "execution_count": null,
   "metadata": {},
   "outputs": [],
   "source": [
    "# Download human-readable labels for ImageNet.\n",
    "response = requests.get(\"https://git.io/JJkYN\")\n",
    "labels = response.text.split(\"\\n\")"
   ]
  },
  {
   "cell_type": "code",
   "execution_count": null,
   "metadata": {},
   "outputs": [],
   "source": [
    "# Download sample images\n",
    "urlretrieve(\"https://www.sciencemag.org/sites/default/files/styles/article_main_large/public/cc_BE6RJF_16x9.jpg?itok=nP17Fm9H\",\"monkey.jpg\")\n",
    "urlretrieve(\"https://www.discoverboating.com/sites/default/files/inline-images/buying-a-sailboat-checklist.jpg\",\"sailboat.jpg\")\n",
    "urlretrieve(\"https://external-preview.redd.it/lG5mI_9Co1obw2TiY0e-oChlXfEQY3tsRaIjpYjERqs.jpg?auto=webp&s=ea81982f44b83efbb803c8cff8953ee547624f70\",\"bicycle.jpg\")\n"
   ]
  },
  {
   "cell_type": "code",
   "execution_count": null,
   "metadata": {},
   "outputs": [],
   "source": [
    "mobile_net = tf.keras.applications.MobileNetV2()\n",
    "inception_net = tf.keras.applications.InceptionV3()"
   ]
  },
  {
   "cell_type": "code",
   "execution_count": null,
   "metadata": {},
   "outputs": [],
   "source": [
    "def classify_image_with_mobile_net(im):\n",
    "\tim = Image.fromarray(im.astype('uint8'), 'RGB')\n",
    "\tim = im.resize((224, 224))\n",
    "\tarr = np.array(im).reshape((-1, 224, 224, 3))\n",
    "\tarr = tf.keras.applications.mobilenet.preprocess_input(arr)\n",
    "\tprediction = mobile_net.predict(arr).flatten()\n",
    "    return {labels[i]: float(prediction[i]) for i in range(1000)}\n"
   ]
  },
  {
   "cell_type": "code",
   "execution_count": null,
   "metadata": {},
   "outputs": [],
   "source": [
    "def classify_image_with_inception_net(im):\n",
    "    # Resize the image to\n",
    "\tim = Image.fromarray(im.astype('uint8'), 'RGB')\n",
    "\tim = im.resize((299, 299))\n",
    "\tarr = np.array(im).reshape((-1, 299, 299, 3))\n",
    "\tarr = tf.keras.applications.inception_v3.preprocess_input(arr)\n",
    "\tprediction = inception_net.predict(arr).flatten()\n",
    "    return {labels[i]: float(prediction[i]) for i in range(1000)}\n"
   ]
  },
  {
   "cell_type": "code",
   "execution_count": null,
   "metadata": {},
   "outputs": [],
   "source": [
    "imagein = gr.inputs.Image()"
   ]
  },
  {
   "cell_type": "code",
   "execution_count": null,
   "metadata": {},
   "outputs": [],
   "source": [
    "label = gr.outputs.Label(num_top_classes=3)"
   ]
  },
  {
   "cell_type": "code",
   "execution_count": null,
   "metadata": {},
   "outputs": [],
   "source": [
    "sample_images = [\n",
    "                 [\"monkey.jpg\"],\n",
    "                 [\"sailboat.jpg\"],\n",
    "                 [\"bicycle.jpg\"]\n",
    "]"
   ]
  },
  {
   "cell_type": "code",
   "execution_count": null,
   "metadata": {},
   "outputs": [],
   "source": [
    "gr.Interface(\n",
    "    [classify_image_with_mobile_net, classify_image_with_inception_net],\n",
    "    imagein,\n",
    "    label,\n",
    "    title=\"MobileNet vs. InceptionNet\",\n",
    "    description=\"Let's compare 2 state-of-the-art machine learning models\n",
    "          that classify images into one of 1,000 categories: MobileNet (top),\n",
    "          a lightweight model that has an accuracy of 0.704, vs. InceptionNet\n",
    "          (bottom), a much heavier model that has an accuracy of 0.779.\",\n",
    "    examples=sample_images).launch();"
   ]
  },
  {
   "cell_type": "code",
   "execution_count": null,
   "metadata": {},
   "outputs": [],
   "source": []
  }
 ],
 "metadata": {
  "kernelspec": {
   "display_name": "Python 3",
   "language": "python",
   "name": "python3"
  },
  "language_info": {
   "codemirror_mode": {
    "name": "ipython",
    "version": 3
   },
   "file_extension": ".py",
   "mimetype": "text/x-python",
   "name": "python",
   "nbconvert_exporter": "python",
   "pygments_lexer": "ipython3",
   "version": "3.7.3"
  }
 },
 "nbformat": 4,
 "nbformat_minor": 4
}
