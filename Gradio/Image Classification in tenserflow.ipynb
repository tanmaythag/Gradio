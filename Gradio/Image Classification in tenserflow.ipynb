{
 "cells": [
  {
   "cell_type": "code",
   "execution_count": 3,
   "metadata": {},
   "outputs": [
    {
     "name": "stdout",
     "output_type": "stream",
     "text": [
      "Collecting gradio\n",
      "  Downloading gradio-1.7.7-py3-none-any.whl (1.1 MB)\n",
      "Collecting pycryptodome\n",
      "  Downloading pycryptodome-3.10.1-cp35-abi3-win_amd64.whl (1.6 MB)\n",
      "Requirement already satisfied: Flask>=1.1.1 in c:\\users\\acer\\appdata\\local\\programs\\python\\python37\\lib\\site-packages (from gradio) (1.1.2)\n",
      "Requirement already satisfied: matplotlib in c:\\users\\acer\\appdata\\local\\programs\\python\\python37\\lib\\site-packages (from gradio) (3.3.1)\n",
      "Collecting Flask-Login\n",
      "  Downloading Flask_Login-0.5.0-py2.py3-none-any.whl (16 kB)\n",
      "Collecting paramiko\n",
      "  Using cached paramiko-2.7.2-py2.py3-none-any.whl (206 kB)\n",
      "Collecting flask-cachebuster\n",
      "  Using cached Flask-CacheBuster-1.0.0.tar.gz (3.1 kB)\n",
      "Collecting ffmpy\n",
      "  Using cached ffmpy-0.3.0.tar.gz (4.8 kB)\n",
      "Requirement already satisfied: Flask-Cors>=3.0.8 in c:\\users\\acer\\appdata\\local\\programs\\python\\python37\\lib\\site-packages (from gradio) (3.0.8)\n",
      "Requirement already satisfied: requests in c:\\users\\acer\\appdata\\local\\programs\\python\\python37\\lib\\site-packages (from gradio) (2.23.0)\n",
      "Collecting markdown2\n",
      "  Using cached markdown2-2.4.0-py2.py3-none-any.whl (34 kB)\n",
      "Requirement already satisfied: pandas in c:\\users\\acer\\appdata\\local\\programs\\python\\python37\\lib\\site-packages (from gradio) (1.0.4)\n",
      "Requirement already satisfied: numpy in c:\\users\\acer\\appdata\\local\\programs\\python\\python37\\lib\\site-packages (from gradio) (1.19.5)\n",
      "Requirement already satisfied: pillow in c:\\users\\acer\\appdata\\local\\programs\\python\\python37\\lib\\site-packages (from gradio) (7.2.0)\n",
      "Collecting analytics-python\n",
      "  Downloading analytics_python-1.3.1-py2.py3-none-any.whl (16 kB)\n",
      "Requirement already satisfied: scipy in c:\\users\\acer\\appdata\\local\\programs\\python\\python37\\lib\\site-packages (from gradio) (1.5.2)\n",
      "Requirement already satisfied: click>=5.1 in c:\\users\\acer\\appdata\\local\\programs\\python\\python37\\lib\\site-packages (from Flask>=1.1.1->gradio) (7.1.2)\n",
      "Requirement already satisfied: itsdangerous>=0.24 in c:\\users\\acer\\appdata\\local\\programs\\python\\python37\\lib\\site-packages (from Flask>=1.1.1->gradio) (1.1.0)\n",
      "Requirement already satisfied: Jinja2>=2.10.1 in c:\\users\\acer\\appdata\\local\\programs\\python\\python37\\lib\\site-packages (from Flask>=1.1.1->gradio) (2.11.2)\n",
      "Requirement already satisfied: Werkzeug>=0.15 in c:\\users\\acer\\appdata\\local\\programs\\python\\python37\\lib\\site-packages (from Flask>=1.1.1->gradio) (1.0.1)\n",
      "Requirement already satisfied: Six in c:\\users\\acer\\appdata\\local\\programs\\python\\python37\\lib\\site-packages (from Flask-Cors>=3.0.8->gradio) (1.15.0)\n",
      "Requirement already satisfied: MarkupSafe>=0.23 in c:\\users\\acer\\appdata\\local\\programs\\python\\python37\\lib\\site-packages (from Jinja2>=2.10.1->Flask>=1.1.1->gradio) (1.1.1)\n",
      "Collecting monotonic>=1.5\n",
      "  Downloading monotonic-1.6-py2.py3-none-any.whl (8.2 kB)\n",
      "Collecting backoff==1.10.0\n"
     ]
    },
    {
     "name": "stderr",
     "output_type": "stream",
     "text": [
      "WARNING: You are using pip version 21.0.1; however, version 21.1.1 is available.\n",
      "You should consider upgrading via the 'c:\\users\\acer\\appdata\\local\\programs\\python\\python37\\python.exe -m pip install --upgrade pip' command.\n"
     ]
    },
    {
     "name": "stdout",
     "output_type": "stream",
     "text": [
      "  Downloading backoff-1.10.0-py2.py3-none-any.whl (31 kB)\n",
      "Requirement already satisfied: python-dateutil>2.1 in c:\\users\\acer\\appdata\\local\\programs\\python\\python37\\lib\\site-packages (from analytics-python->gradio) (2.8.1)\n",
      "Requirement already satisfied: idna<3,>=2.5 in c:\\users\\acer\\appdata\\local\\programs\\python\\python37\\lib\\site-packages (from requests->gradio) (2.9)\n",
      "Requirement already satisfied: chardet<4,>=3.0.2 in c:\\users\\acer\\appdata\\local\\programs\\python\\python37\\lib\\site-packages (from requests->gradio) (3.0.4)\n",
      "Requirement already satisfied: certifi>=2017.4.17 in c:\\users\\acer\\appdata\\local\\programs\\python\\python37\\lib\\site-packages (from requests->gradio) (2020.12.5)\n",
      "Requirement already satisfied: urllib3!=1.25.0,!=1.25.1,<1.26,>=1.21.1 in c:\\users\\acer\\appdata\\local\\programs\\python\\python37\\lib\\site-packages (from requests->gradio) (1.25.9)\n",
      "Requirement already satisfied: kiwisolver>=1.0.1 in c:\\users\\acer\\appdata\\local\\programs\\python\\python37\\lib\\site-packages (from matplotlib->gradio) (1.2.0)\n",
      "Requirement already satisfied: pyparsing!=2.0.4,!=2.1.2,!=2.1.6,>=2.0.3 in c:\\users\\acer\\appdata\\local\\programs\\python\\python37\\lib\\site-packages (from matplotlib->gradio) (2.4.7)\n",
      "Requirement already satisfied: cycler>=0.10 in c:\\users\\acer\\appdata\\local\\programs\\python\\python37\\lib\\site-packages (from matplotlib->gradio) (0.10.0)\n",
      "Requirement already satisfied: pytz>=2017.2 in c:\\users\\acer\\appdata\\local\\programs\\python\\python37\\lib\\site-packages (from pandas->gradio) (2020.1)\n",
      "Collecting bcrypt>=3.1.3\n",
      "  Downloading bcrypt-3.2.0-cp36-abi3-win_amd64.whl (28 kB)\n",
      "Collecting cryptography>=2.5\n",
      "  Downloading cryptography-3.4.7-cp36-abi3-win_amd64.whl (1.6 MB)\n",
      "Collecting pynacl>=1.0.1\n",
      "  Downloading PyNaCl-1.4.0-cp37-cp37m-win_amd64.whl (206 kB)\n",
      "Collecting cffi>=1.1\n",
      "  Using cached cffi-1.14.5-cp37-cp37m-win_amd64.whl (178 kB)\n",
      "Collecting pycparser\n",
      "  Using cached pycparser-2.20-py2.py3-none-any.whl (112 kB)\n",
      "Building wheels for collected packages: ffmpy, flask-cachebuster\n",
      "  Building wheel for ffmpy (setup.py): started\n",
      "  Building wheel for ffmpy (setup.py): finished with status 'done'\n",
      "  Created wheel for ffmpy: filename=ffmpy-0.3.0-py3-none-any.whl size=4714 sha256=ec00af7647c28b8611e28013fe42d574345ccdcfd5a6d1a0becdf8ddc1f7634f\n",
      "  Stored in directory: c:\\users\\acer\\appdata\\local\\pip\\cache\\wheels\\13\\e4\\6c\\e8059816e86796a597c6e6b0d4c880630f51a1fcfa0befd5e6\n",
      "  Building wheel for flask-cachebuster (setup.py): started\n",
      "  Building wheel for flask-cachebuster (setup.py): finished with status 'done'\n",
      "  Created wheel for flask-cachebuster: filename=Flask_CacheBuster-1.0.0-py3-none-any.whl size=3376 sha256=9371cb81b3400289c356655b7b62b5678d784867e79b7d14aab59a3b84af4b83\n",
      "  Stored in directory: c:\\users\\acer\\appdata\\local\\pip\\cache\\wheels\\28\\c0\\c4\\44687421dab41455be93112bd1b0dee1f3c5a9aa27bee63708\n",
      "Successfully built ffmpy flask-cachebuster\n",
      "Installing collected packages: pycparser, cffi, pynacl, monotonic, cryptography, bcrypt, backoff, pycryptodome, paramiko, markdown2, Flask-Login, flask-cachebuster, ffmpy, analytics-python, gradio\n",
      "Successfully installed Flask-Login-0.5.0 analytics-python-1.3.1 backoff-1.10.0 bcrypt-3.2.0 cffi-1.14.5 cryptography-3.4.7 ffmpy-0.3.0 flask-cachebuster-1.0.0 gradio-1.7.7 markdown2-2.4.0 monotonic-1.6 paramiko-2.7.2 pycparser-2.20 pycryptodome-3.10.1 pynacl-1.4.0\n"
     ]
    }
   ],
   "source": [
    "#install the below libraries\n",
    "\n",
    "!pip install gradio"
   ]
  },
  {
   "cell_type": "code",
   "execution_count": 5,
   "metadata": {},
   "outputs": [],
   "source": [
    "import gradio as gr\n",
    "import tensorflow as tf\n",
    "import numpy as np\n",
    "import requests"
   ]
  },
  {
   "cell_type": "code",
   "execution_count": null,
   "metadata": {},
   "outputs": [
    {
     "name": "stdout",
     "output_type": "stream",
     "text": [
      "Downloading data from https://storage.googleapis.com/tensorflow/keras-applications/inception_v3/inception_v3_weights_tf_dim_ordering_tf_kernels.h5\n",
      "38699008/96112376 [===========>..................] - ETA: 2:33"
     ]
    }
   ],
   "source": [
    "# load the model\n",
    "\n",
    "inception_net = tf.keras.applications.InceptionV3() \n"
   ]
  },
  {
   "cell_type": "code",
   "execution_count": null,
   "metadata": {},
   "outputs": [],
   "source": [
    "# Download human-readable labels for ImageNet.\n",
    "\n",
    "response = requests.get(\"https://git.io/JJkYN\")\n",
    "\n",
    "labels = response.text.split(\"\\n\")"
   ]
  },
  {
   "cell_type": "code",
   "execution_count": null,
   "metadata": {},
   "outputs": [],
   "source": [
    "\n",
    "def classify_image(inp):\n",
    "  inp = inp.reshape((-1, 299, 299, 3))\n",
    "  inp = tf.keras.applications.inception_v3.preprocess_input(inp)\n",
    "  prediction = inception_net.predict(inp).flatten()\n",
    "  return {labels[i]: float(prediction[i]) for i in range(1000)}\n"
   ]
  },
  {
   "cell_type": "code",
   "execution_count": null,
   "metadata": {},
   "outputs": [],
   "source": [
    "image = gr.inputs.Image(shape=(299, 299))\n",
    "label = gr.outputs.Label(num_top_classes=3)\n"
   ]
  },
  {
   "cell_type": "code",
   "execution_count": null,
   "metadata": {},
   "outputs": [],
   "source": [
    "gr.Interface(fn=classify_image, inputs=image, outputs=label, capture_session=True).launch()"
   ]
  },
  {
   "cell_type": "code",
   "execution_count": null,
   "metadata": {},
   "outputs": [],
   "source": []
  }
 ],
 "metadata": {
  "kernelspec": {
   "display_name": "Python 3",
   "language": "python",
   "name": "python3"
  },
  "language_info": {
   "codemirror_mode": {
    "name": "ipython",
    "version": 3
   },
   "file_extension": ".py",
   "mimetype": "text/x-python",
   "name": "python",
   "nbconvert_exporter": "python",
   "pygments_lexer": "ipython3",
   "version": "3.7.3"
  }
 },
 "nbformat": 4,
 "nbformat_minor": 4
}
